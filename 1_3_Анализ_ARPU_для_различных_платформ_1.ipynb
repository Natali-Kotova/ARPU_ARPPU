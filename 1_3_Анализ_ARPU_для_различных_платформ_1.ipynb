{
 "cells": [
  {
   "cell_type": "code",
   "execution_count": 1,
   "id": "e6537a16",
   "metadata": {},
   "outputs": [],
   "source": [
    "import pandas as pd\n",
    "import scipy.stats as stats\n",
    "import numpy as np\n",
    "import scipy.stats\n",
    "import matplotlib.pyplot as plt"
   ]
  },
  {
   "cell_type": "code",
   "execution_count": 8,
   "id": "91e31232",
   "metadata": {},
   "outputs": [],
   "source": [
    "def mean_confidence_interval(data, confidence=0.95):\n",
    "    a = 1.0 * np.array(data)\n",
    "    n = len(a)\n",
    "    m, se = np.mean(a), scipy.stats.sem(a)\n",
    "    h = se * scipy.stats.t.ppf((1 + confidence) / 2., n-1)\n",
    "    return round(m, 4), round(m-h, 4), round(m+h, 4)"
   ]
  },
  {
   "cell_type": "code",
   "execution_count": 10,
   "id": "9a315731",
   "metadata": {},
   "outputs": [],
   "source": [
    "platform = pd.read_csv('Platforms.csv')\n",
    "no_cheaters = pd.read_csv('no_cheaters.csv')"
   ]
  },
  {
   "cell_type": "code",
   "execution_count": 12,
   "id": "529b346a",
   "metadata": {},
   "outputs": [
    {
     "data": {
      "text/plain": [
       "7560000"
      ]
     },
     "execution_count": 12,
     "metadata": {},
     "output_type": "execute_result"
    }
   ],
   "source": [
    "platform.duplicated().sum()"
   ]
  },
  {
   "cell_type": "code",
   "execution_count": 14,
   "id": "4bcb18a2",
   "metadata": {},
   "outputs": [],
   "source": [
    "platform = platform.drop_duplicates(subset=['user_id','platform'])"
   ]
  },
  {
   "cell_type": "code",
   "execution_count": 16,
   "id": "e2b5cbbf",
   "metadata": {},
   "outputs": [
    {
     "data": {
      "text/plain": [
       "array(['XBox', 'PC', 'PS4'], dtype=object)"
      ]
     },
     "execution_count": 16,
     "metadata": {},
     "output_type": "execute_result"
    }
   ],
   "source": [
    "platform.platform.unique()"
   ]
  },
  {
   "cell_type": "code",
   "execution_count": 18,
   "id": "82756ce5",
   "metadata": {},
   "outputs": [],
   "source": [
    "no_cheaters = no_cheaters.merge(platform, on='user_id',how='left')"
   ]
  },
  {
   "cell_type": "markdown",
   "id": "3888c25c",
   "metadata": {},
   "source": [
    "#### Фильтрация данных для пользователей различных платформ и групп"
   ]
  },
  {
   "cell_type": "code",
   "execution_count": 21,
   "id": "44813495",
   "metadata": {},
   "outputs": [],
   "source": [
    "XBox_test = no_cheaters[(no_cheaters['group']=='test')&(no_cheaters['platform']=='XBox')]\n",
    "XBox_control = no_cheaters[(no_cheaters['group']=='control')&(no_cheaters['platform']=='XBox')]"
   ]
  },
  {
   "cell_type": "code",
   "execution_count": 23,
   "id": "67806a10",
   "metadata": {},
   "outputs": [],
   "source": [
    "PC_test = no_cheaters[(no_cheaters['group']=='test')&(no_cheaters['platform']=='PC')]\n",
    "PC_control = no_cheaters[(no_cheaters['group']=='control')&(no_cheaters['platform']=='PC')]"
   ]
  },
  {
   "cell_type": "code",
   "execution_count": 25,
   "id": "48b422c6",
   "metadata": {},
   "outputs": [],
   "source": [
    "PS4_test = no_cheaters[(no_cheaters['group']=='test')&(no_cheaters['platform']=='PS4')]\n",
    "PS4_control = no_cheaters[(no_cheaters['group']=='control')&(no_cheaters['platform']=='PS4')]"
   ]
  },
  {
   "cell_type": "markdown",
   "id": "166969e9",
   "metadata": {},
   "source": [
    "### Рассчет ARPU для различных платформ"
   ]
  },
  {
   "cell_type": "markdown",
   "id": "00e9adce",
   "metadata": {},
   "source": [
    "#### для платформы XBox"
   ]
  },
  {
   "cell_type": "code",
   "execution_count": 29,
   "id": "f11db273",
   "metadata": {},
   "outputs": [
    {
     "data": {
      "text/plain": [
       "6.1328"
      ]
     },
     "execution_count": 29,
     "metadata": {},
     "output_type": "execute_result"
    }
   ],
   "source": [
    "arpu_XBox_test = XBox_test['money'].sum()/XBox_test['user_id'].nunique()\n",
    "round(arpu_XBox_test, 4)"
   ]
  },
  {
   "cell_type": "code",
   "execution_count": 31,
   "id": "4a759ed4",
   "metadata": {},
   "outputs": [
    {
     "data": {
      "text/plain": [
       "6.1035"
      ]
     },
     "execution_count": 31,
     "metadata": {},
     "output_type": "execute_result"
    }
   ],
   "source": [
    "arpu_XBox_control = XBox_control['money'].sum()/XBox_control['user_id'].nunique()\n",
    "round(arpu_XBox_control, 4)"
   ]
  },
  {
   "cell_type": "markdown",
   "id": "74d6feb6",
   "metadata": {},
   "source": [
    "#### для платформы PC"
   ]
  },
  {
   "cell_type": "code",
   "execution_count": 34,
   "id": "d952fd39",
   "metadata": {},
   "outputs": [
    {
     "data": {
      "text/plain": [
       "6.269"
      ]
     },
     "execution_count": 34,
     "metadata": {},
     "output_type": "execute_result"
    }
   ],
   "source": [
    "arpu_PC_test = PC_test['money'].sum()/PC_test['user_id'].nunique()\n",
    "round(arpu_PC_test, 4)"
   ]
  },
  {
   "cell_type": "code",
   "execution_count": 36,
   "id": "ba86dbcb",
   "metadata": {},
   "outputs": [
    {
     "data": {
      "text/plain": [
       "5.6462"
      ]
     },
     "execution_count": 36,
     "metadata": {},
     "output_type": "execute_result"
    }
   ],
   "source": [
    "arpu_PC_control = PC_control['money'].sum()/PC_control['user_id'].nunique()\n",
    "round(arpu_PC_control, 4)"
   ]
  },
  {
   "cell_type": "markdown",
   "id": "f02b2c1b",
   "metadata": {},
   "source": [
    "#### для платформы PS4"
   ]
  },
  {
   "cell_type": "code",
   "execution_count": 39,
   "id": "c2a95b9c",
   "metadata": {},
   "outputs": [
    {
     "data": {
      "text/plain": [
       "6.0849"
      ]
     },
     "execution_count": 39,
     "metadata": {},
     "output_type": "execute_result"
    }
   ],
   "source": [
    "arpu_PS4_test = PS4_test['money'].sum()/PS4_test['user_id'].nunique()\n",
    "round(arpu_PS4_test, 4)"
   ]
  },
  {
   "cell_type": "code",
   "execution_count": 41,
   "id": "1cf0ca06",
   "metadata": {},
   "outputs": [
    {
     "data": {
      "text/plain": [
       "5.7376"
      ]
     },
     "execution_count": 41,
     "metadata": {},
     "output_type": "execute_result"
    }
   ],
   "source": [
    "arpu_PS4_control = PS4_control['money'].sum()/PS4_control['user_id'].nunique()\n",
    "round(arpu_PS4_control, 4)"
   ]
  },
  {
   "cell_type": "markdown",
   "id": "c91dedb5",
   "metadata": {},
   "source": [
    "### Рассчет ARPPU для различных платформ"
   ]
  },
  {
   "cell_type": "markdown",
   "id": "9a5670c8",
   "metadata": {},
   "source": [
    "#### Для платформы XBox"
   ]
  },
  {
   "cell_type": "code",
   "execution_count": 45,
   "id": "e1696fde",
   "metadata": {},
   "outputs": [],
   "source": [
    "XBox_test_payers = XBox_test[XBox_test['money']>0]\n",
    "XBox_control_payers = XBox_control[XBox_control['money']>0]"
   ]
  },
  {
   "cell_type": "code",
   "execution_count": 47,
   "id": "4bcdfb35",
   "metadata": {},
   "outputs": [
    {
     "data": {
      "text/plain": [
       "6.1337"
      ]
     },
     "execution_count": 47,
     "metadata": {},
     "output_type": "execute_result"
    }
   ],
   "source": [
    "arppu_XBox_test = XBox_test_payers['money'].sum()/XBox_test_payers['user_id'].nunique()\n",
    "round(arppu_XBox_test, 4)"
   ]
  },
  {
   "cell_type": "code",
   "execution_count": 49,
   "id": "73b3a680",
   "metadata": {},
   "outputs": [
    {
     "data": {
      "text/plain": [
       "6.1044"
      ]
     },
     "execution_count": 49,
     "metadata": {},
     "output_type": "execute_result"
    }
   ],
   "source": [
    "arppu_XBox_control = XBox_control_payers['money'].sum()/XBox_control_payers['user_id'].nunique()\n",
    "round(arppu_XBox_control, 4)"
   ]
  },
  {
   "cell_type": "markdown",
   "id": "29f947bf",
   "metadata": {},
   "source": [
    "#### Для платформы PC"
   ]
  },
  {
   "cell_type": "code",
   "execution_count": 52,
   "id": "fe3871a0",
   "metadata": {},
   "outputs": [],
   "source": [
    "PC_test_payers = PC_test[PC_test['money']>0]\n",
    "PC_control_payers = PC_control[PC_control['money']>0]"
   ]
  },
  {
   "cell_type": "code",
   "execution_count": 54,
   "id": "2ba73fe8",
   "metadata": {},
   "outputs": [
    {
     "data": {
      "text/plain": [
       "6.2697"
      ]
     },
     "execution_count": 54,
     "metadata": {},
     "output_type": "execute_result"
    }
   ],
   "source": [
    "arppu_PC_test = PC_test_payers['money'].sum()/PC_test_payers['user_id'].nunique()\n",
    "round(arppu_PC_test, 4)"
   ]
  },
  {
   "cell_type": "code",
   "execution_count": 56,
   "id": "77b0f950",
   "metadata": {},
   "outputs": [
    {
     "data": {
      "text/plain": [
       "5.6483"
      ]
     },
     "execution_count": 56,
     "metadata": {},
     "output_type": "execute_result"
    }
   ],
   "source": [
    "arppu_PC_control = PC_control_payers['money'].sum()/PC_control_payers['user_id'].nunique()\n",
    "round(arppu_PC_control, 4)"
   ]
  },
  {
   "cell_type": "markdown",
   "id": "35b3de38",
   "metadata": {},
   "source": [
    "#### Для платформы PS4"
   ]
  },
  {
   "cell_type": "code",
   "execution_count": 59,
   "id": "7bde5b08",
   "metadata": {},
   "outputs": [],
   "source": [
    "PS4_test_payers = PS4_test[PS4_test['money']>0]\n",
    "PS4_control_payers = PS4_control[PS4_control['money']>0]"
   ]
  },
  {
   "cell_type": "code",
   "execution_count": 61,
   "id": "77988aa1",
   "metadata": {},
   "outputs": [
    {
     "data": {
      "text/plain": [
       "6.0859"
      ]
     },
     "execution_count": 61,
     "metadata": {},
     "output_type": "execute_result"
    }
   ],
   "source": [
    "arppu_PS4_test = PS4_test_payers['money'].sum()/PS4_test_payers['user_id'].nunique()\n",
    "round(arppu_PS4_test, 4)"
   ]
  },
  {
   "cell_type": "code",
   "execution_count": 63,
   "id": "105d72ee",
   "metadata": {},
   "outputs": [
    {
     "data": {
      "text/plain": [
       "5.7395"
      ]
     },
     "execution_count": 63,
     "metadata": {},
     "output_type": "execute_result"
    }
   ],
   "source": [
    "arppu_PS4_control = PS4_control_payers['money'].sum()/PS4_control_payers['user_id'].nunique()\n",
    "round(arppu_PS4_control, 4)"
   ]
  },
  {
   "cell_type": "markdown",
   "id": "c669c3d4",
   "metadata": {},
   "source": [
    "### Рассчет средних трат внутриигровой валюты для различных платформ"
   ]
  },
  {
   "cell_type": "markdown",
   "id": "36d7d061-6c52-49ed-9ae3-69d9ea5afa49",
   "metadata": {},
   "source": [
    "#### Расчет доверительного интервала средних трат внутриигровой валюты"
   ]
  },
  {
   "cell_type": "code",
   "execution_count": 77,
   "id": "02c516e3-0b99-4c3c-a635-4e5fb900d604",
   "metadata": {},
   "outputs": [],
   "source": [
    "### для XBox"
   ]
  },
  {
   "cell_type": "code",
   "execution_count": 67,
   "id": "f178b008",
   "metadata": {},
   "outputs": [
    {
     "data": {
      "text/plain": [
       "(6176.4029, 6169.9305, 6182.8753)"
      ]
     },
     "execution_count": 67,
     "metadata": {},
     "output_type": "execute_result"
    }
   ],
   "source": [
    "test_interval = mean_confidence_interval(list(XBox_test['cash']), confidence=0.95)\n",
    "test_interval"
   ]
  },
  {
   "cell_type": "code",
   "execution_count": 69,
   "id": "87efb3bb",
   "metadata": {},
   "outputs": [
    {
     "data": {
      "text/plain": [
       "(6131.7935, 6125.3354, 6138.2517)"
      ]
     },
     "execution_count": 69,
     "metadata": {},
     "output_type": "execute_result"
    }
   ],
   "source": [
    "control_interval = mean_confidence_interval(list(XBox_control['cash']), confidence=0.95)\n",
    "control_interval"
   ]
  },
  {
   "cell_type": "code",
   "execution_count": 73,
   "id": "32e52001",
   "metadata": {},
   "outputs": [],
   "source": [
    "groups = ['XBox_test', 'XBox_control']\n",
    "means = [test_interval[0], control_interval[0]]\n",
    "lower_bounds = [test_interval[0] - test_interval[1], control_interval[0] - control_interval[1]]\n",
    "upper_bounds = [test_interval[2] - test_interval[0], control_interval[2] - control_interval[0]]"
   ]
  },
  {
   "cell_type": "code",
   "execution_count": 75,
   "id": "30fcbd4a",
   "metadata": {},
   "outputs": [
    {
     "data": {
      "image/png": "[encoded data removed]",
      "text/plain": [
       "<Figure size 1000x500 with 1 Axes>"
      ]
     },
     "metadata": {},
     "output_type": "display_data"
    }
   ],
   "source": [
    "plt.figure(figsize=(10, 5))\n",
    "plt.errorbar(x=means, y=groups, xerr=[lower_bounds, upper_bounds], fmt='o', color='blue', capsize=8)\n",
    "plt.xlabel('Средние траты внутриигровой валюты для XBox')\n",
    "plt.title('Доверительные интервалы для средних трат внутриигровой валюты test и control групп')\n",
    "plt.grid(True)\n",
    "plt.show()"
   ]
  },
  {
   "cell_type": "code",
   "execution_count": 107,
   "id": "df86c050-8591-4fe6-b31a-453d70cde46c",
   "metadata": {},
   "outputs": [],
   "source": [
    "### для PC"
   ]
  },
  {
   "cell_type": "code",
   "execution_count": 79,
   "id": "81d3bacd",
   "metadata": {},
   "outputs": [
    {
     "data": {
      "text/plain": [
       "(6381.7456, 6375.0147, 6388.4766)"
      ]
     },
     "execution_count": 79,
     "metadata": {},
     "output_type": "execute_result"
    }
   ],
   "source": [
    "test_interval = mean_confidence_interval(list(PC_test['cash']), confidence=0.95)\n",
    "test_interval"
   ]
  },
  {
   "cell_type": "code",
   "execution_count": 81,
   "id": "568721f7",
   "metadata": {},
   "outputs": [
    {
     "data": {
      "text/plain": [
       "(5587.1022, 5581.3766, 5592.8277)"
      ]
     },
     "execution_count": 81,
     "metadata": {},
     "output_type": "execute_result"
    }
   ],
   "source": [
    "control_interval = mean_confidence_interval(list(PC_control['cash']), confidence=0.95)\n",
    "control_interval"
   ]
  },
  {
   "cell_type": "code",
   "execution_count": 83,
   "id": "a091fadb-d3a3-4ca8-9571-8ac2c3eedffb",
   "metadata": {},
   "outputs": [],
   "source": [
    "groups = ['PC_test', 'PC_control']\n",
    "means = [test_interval[0], control_interval[0]]\n",
    "lower_bounds = [test_interval[0] - test_interval[1], control_interval[0] - control_interval[1]]\n",
    "upper_bounds = [test_interval[2] - test_interval[0], control_interval[2] - control_interval[0]]"
   ]
  },
  {
   "cell_type": "code",
   "execution_count": 105,
   "id": "65633de8-3372-4bb3-956b-66dd81c0e413",
   "metadata": {},
   "outputs": [
    {
     "data": {
      "image/png": "[encoded data removed]",
      "text/plain": [
       "<Figure size 2000x500 with 1 Axes>"
      ]
     },
     "metadata": {},
     "output_type": "display_data"
    }
   ],
   "source": [
    "plt.figure(figsize=(20, 5))\n",
    "plt.errorbar(x=means, y=groups, xerr=[lower_bounds, upper_bounds], fmt='o', color='blue', capsize=5)\n",
    "plt.xlabel('Средние траты внутриигровой валюты для PC')\n",
    "plt.title('Доверительные интервалы для средних трат внутриигровой валюты test и control групп')\n",
    "plt.grid(True)\n",
    "plt.show()"
   ]
  },
  {
   "cell_type": "code",
   "execution_count": 109,
   "id": "8bd282c7-5e61-4a6c-a2ab-550a341def5e",
   "metadata": {},
   "outputs": [],
   "source": [
    "### для PS4"
   ]
  },
  {
   "cell_type": "code",
   "execution_count": 111,
   "id": "74ed164e-0009-45ab-bcdf-b11243fdd008",
   "metadata": {},
   "outputs": [
    {
     "data": {
      "text/plain": [
       "(6130.4933, 6124.1899, 6136.7966)"
      ]
     },
     "execution_count": 111,
     "metadata": {},
     "output_type": "execute_result"
    }
   ],
   "source": [
    "test_interval = mean_confidence_interval(list(PS4_test['cash']), confidence=0.95)\n",
    "test_interval"
   ]
  },
  {
   "cell_type": "code",
   "execution_count": 113,
   "id": "d9e52652-9bdd-4ee9-b730-d4913f818c2e",
   "metadata": {},
   "outputs": [
    {
     "data": {
      "text/plain": [
       "(5681.9362, 5675.7683, 5688.104)"
      ]
     },
     "execution_count": 113,
     "metadata": {},
     "output_type": "execute_result"
    }
   ],
   "source": [
    "control_interval = mean_confidence_interval(list(PS4_control['cash']), confidence=0.95)\n",
    "control_interval"
   ]
  },
  {
   "cell_type": "code",
   "execution_count": 115,
   "id": "231704a2-d46e-44d5-83e0-691a27ef31d5",
   "metadata": {},
   "outputs": [],
   "source": [
    "groups = ['PS4_test', 'PS4_control']\n",
    "means = [test_interval[0], control_interval[0]]\n",
    "lower_bounds = [test_interval[0] - test_interval[1], control_interval[0] - control_interval[1]]\n",
    "upper_bounds = [test_interval[2] - test_interval[0], control_interval[2] - control_interval[0]]"
   ]
  },
  {
   "cell_type": "code",
   "execution_count": 123,
   "id": "2fb883b8-917d-4512-bb74-aa94dbc75d27",
   "metadata": {},
   "outputs": [
    {
     "data": {
      "image/png": "[encoded data removed]",
      "text/plain": [
       "<Figure size 800x300 with 1 Axes>"
      ]
     },
     "metadata": {},
     "output_type": "display_data"
    }
   ],
   "source": [
    "plt.figure(figsize=(8, 3))\n",
    "plt.errorbar(x=means, y=groups, xerr=[lower_bounds, upper_bounds], fmt='o', color='blue', capsize=5)\n",
    "plt.xlabel('Средние траты внутриигровой валюты для PS4')\n",
    "plt.title('Доверительные интервалы для средних трат внутриигровой валюты test и control групп')\n",
    "plt.grid(True)\n",
    "plt.show()"
   ]
  },
  {
   "cell_type": "markdown",
   "id": "9a5bc9e6",
   "metadata": {},
   "source": [
    "### Расчет доверительного интервала ARPU для пользователей XBox"
   ]
  },
  {
   "cell_type": "code",
   "execution_count": 98,
   "id": "5b07cbec",
   "metadata": {},
   "outputs": [
    {
     "data": {
      "text/plain": [
       "(6.1328, 6.1239, 6.1416)"
      ]
     },
     "execution_count": 98,
     "metadata": {},
     "output_type": "execute_result"
    }
   ],
   "source": [
    "test_interval = mean_confidence_interval(list(XBox_test['money']), confidence=0.95)\n",
    "test_interval"
   ]
  },
  {
   "cell_type": "code",
   "execution_count": 99,
   "id": "dff89b4b",
   "metadata": {},
   "outputs": [
    {
     "data": {
      "text/plain": [
       "(6.1035, 6.0947, 6.1123)"
      ]
     },
     "execution_count": 99,
     "metadata": {},
     "output_type": "execute_result"
    }
   ],
   "source": [
    "control_interval = mean_confidence_interval(list(XBox_control['money']), confidence=0.95)\n",
    "control_interval"
   ]
  },
  {
   "cell_type": "code",
   "execution_count": 100,
   "id": "46ba93d4",
   "metadata": {},
   "outputs": [],
   "source": [
    "groups = ['test_group', 'control_group']\n",
    "means = [test_interval[0], control_interval[0]]\n",
    "lower_bounds = [test_interval[0] - test_interval[1], control_interval[0] - control_interval[1]]\n",
    "upper_bounds = [test_interval[2] - test_interval[0], control_interval[2] - control_interval[0]]"
   ]
  },
  {
   "cell_type": "code",
   "execution_count": 101,
   "id": "fc6b3c87",
   "metadata": {},
   "outputs": [
    {
     "data": {
      "image/png": "[encoded data removed]",
      "text/plain": [
       "<Figure size 576x144 with 1 Axes>"
      ]
     },
     "metadata": {
      "needs_background": "light"
     },
     "output_type": "display_data"
    }
   ],
   "source": [
    "plt.figure(figsize=(8, 2))\n",
    "plt.errorbar(x=means, y=groups, xerr=[lower_bounds, upper_bounds], fmt='o', color='blue', capsize=3)\n",
    "plt.xlabel('ARPU')\n",
    "plt.title('Доверительные интервалы для XBox test и control групп')\n",
    "plt.grid(True)\n",
    "plt.show()"
   ]
  },
  {
   "cell_type": "markdown",
   "id": "b1c2238c",
   "metadata": {},
   "source": [
    "#### Расчет доверительного интервала для пользователей PC"
   ]
  },
  {
   "cell_type": "code",
   "execution_count": 102,
   "id": "188f18ac",
   "metadata": {},
   "outputs": [
    {
     "data": {
      "text/plain": [
       "(6.269, 6.2601, 6.278)"
      ]
     },
     "execution_count": 102,
     "metadata": {},
     "output_type": "execute_result"
    }
   ],
   "source": [
    "test_interval = mean_confidence_interval(list(PC_test['money']), confidence=0.95)\n",
    "test_interval"
   ]
  },
  {
   "cell_type": "code",
   "execution_count": 103,
   "id": "9d75049c",
   "metadata": {},
   "outputs": [
    {
     "data": {
      "text/plain": [
       "(5.6462, 5.6378, 5.6546)"
      ]
     },
     "execution_count": 103,
     "metadata": {},
     "output_type": "execute_result"
    }
   ],
   "source": [
    "control_interval = mean_confidence_interval(list(PC_control['money']), confidence=0.95)\n",
    "control_interval"
   ]
  },
  {
   "cell_type": "code",
   "execution_count": 104,
   "id": "3c3f5fa5",
   "metadata": {},
   "outputs": [],
   "source": [
    "groups = ['test_group', 'control_group']\n",
    "means = [test_interval[0], control_interval[0]]\n",
    "lower_bounds = [test_interval[0] - test_interval[1], control_interval[0] - control_interval[1]]\n",
    "upper_bounds = [test_interval[2] - test_interval[0], control_interval[2] - control_interval[0]]"
   ]
  },
  {
   "cell_type": "code",
   "execution_count": 105,
   "id": "a5990b7e",
   "metadata": {},
   "outputs": [
    {
     "data": {
      "image/png": "[encoded data removed]",
      "text/plain": [
       "<Figure size 576x144 with 1 Axes>"
      ]
     },
     "metadata": {
      "needs_background": "light"
     },
     "output_type": "display_data"
    }
   ],
   "source": [
    "plt.figure(figsize=(8, 2))\n",
    "plt.errorbar(x=means, y=groups, xerr=[lower_bounds, upper_bounds], fmt='o', color='blue', capsize=10)\n",
    "plt.xlabel('ARPU')\n",
    "plt.title('Доверительные интервалы для PC test и control групп')\n",
    "plt.grid(True)\n",
    "plt.show()"
   ]
  },
  {
   "cell_type": "markdown",
   "id": "8f14818e",
   "metadata": {},
   "source": [
    "#### Расчет доверительного интервала для пользователей PS4"
   ]
  },
  {
   "cell_type": "code",
   "execution_count": 106,
   "id": "9f81f516",
   "metadata": {},
   "outputs": [
    {
     "data": {
      "text/plain": [
       "(6.0849, 6.0762, 6.0936)"
      ]
     },
     "execution_count": 106,
     "metadata": {},
     "output_type": "execute_result"
    }
   ],
   "source": [
    "test_interval = mean_confidence_interval(list(PS4_test['money']), confidence=0.95)\n",
    "test_interval"
   ]
  },
  {
   "cell_type": "code",
   "execution_count": 107,
   "id": "6cf48cd7",
   "metadata": {},
   "outputs": [
    {
     "data": {
      "text/plain": [
       "(5.7376, 5.729, 5.7463)"
      ]
     },
     "execution_count": 107,
     "metadata": {},
     "output_type": "execute_result"
    }
   ],
   "source": [
    "control_interval = mean_confidence_interval(list(PS4_control['money']), confidence=0.95)\n",
    "control_interval"
   ]
  },
  {
   "cell_type": "code",
   "execution_count": 108,
   "id": "483fe2b0",
   "metadata": {},
   "outputs": [],
   "source": [
    "groups = ['test_group', 'control_group']\n",
    "means = [test_interval[0], control_interval[0]]\n",
    "lower_bounds = [test_interval[0] - test_interval[1], control_interval[0] - control_interval[1]]\n",
    "upper_bounds = [test_interval[2] - test_interval[0], control_interval[2] - control_interval[0]]"
   ]
  },
  {
   "cell_type": "code",
   "execution_count": 109,
   "id": "9b4addf0",
   "metadata": {},
   "outputs": [
    {
     "data": {
      "image/png": "[encoded data removed]",
      "text/plain": [
       "<Figure size 576x144 with 1 Axes>"
      ]
     },
     "metadata": {
      "needs_background": "light"
     },
     "output_type": "display_data"
    }
   ],
   "source": [
    "plt.figure(figsize=(8, 2))\n",
    "plt.errorbar(x=means, y=groups, xerr=[lower_bounds, upper_bounds], fmt='o', color='blue', capsize=5)\n",
    "plt.xlabel('ARPU')\n",
    "plt.title('Доверительные интервалы для PS4 test и control групп')\n",
    "plt.grid(True)\n",
    "plt.show()"
   ]
  },
  {
   "cell_type": "code",
   "execution_count": null,
   "id": "cb626065",
   "metadata": {},
   "outputs": [],
   "source": []
  }
 ],
 "metadata": {
  "kernelspec": {
   "display_name": "Python [conda env:base] *",
   "language": "python",
   "name": "conda-base-py"
  },
  "language_info": {
   "codemirror_mode": {
    "name": "ipython",
    "version": 3
   },
   "file_extension": ".py",
   "mimetype": "text/x-python",
   "name": "python",
   "nbconvert_exporter": "python",
   "pygments_lexer": "ipython3",
   "version": "3.12.7"
  }
 },
 "nbformat": 4,
 "nbformat_minor": 5
}
