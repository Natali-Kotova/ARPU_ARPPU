{
 "cells": [
  {
   "cell_type": "code",
   "execution_count": 1,
   "metadata": {},
   "outputs": [],
   "source": [
    "import pandas as pd\n",
    "import scipy.stats as stats\n",
    "import numpy as np\n",
    "import scipy.stats\n",
    "import matplotlib.pyplot as plt"
   ]
  },
  {
   "cell_type": "code",
   "execution_count": 2,
   "metadata": {},
   "outputs": [],
   "source": [
    "def mean_confidence_interval(data, confidence=0.95):\n",
    "    a = 1.0 * np.array(data)\n",
    "    n = len(a)\n",
    "    m, se = np.mean(a), scipy.stats.sem(a)\n",
    "    h = se * scipy.stats.t.ppf((1 + confidence) / 2., n-1)\n",
    "    return round(m, 4), round(m-h, 4), round(m+h, 4)"
   ]
  },
  {
   "cell_type": "markdown",
   "metadata": {},
   "source": [
    "####  Импорт таблиц"
   ]
  },
  {
   "cell_type": "code",
   "execution_count": 3,
   "metadata": {},
   "outputs": [
    {
     "data": {
      "text/html": [
       "<div>\n",
       "<style scoped>\n",
       "    .dataframe tbody tr th:only-of-type {\n",
       "        vertical-align: middle;\n",
       "    }\n",
       "\n",
       "    .dataframe tbody tr th {\n",
       "        vertical-align: top;\n",
       "    }\n",
       "\n",
       "    .dataframe thead th {\n",
       "        text-align: right;\n",
       "    }\n",
       "</style>\n",
       "<table border=\"1\" class=\"dataframe\">\n",
       "  <thead>\n",
       "    <tr style=\"text-align: right;\">\n",
       "      <th></th>\n",
       "      <th>user_id</th>\n",
       "      <th>group</th>\n",
       "      <th>cheaters</th>\n",
       "      <th>cash</th>\n",
       "      <th>money</th>\n",
       "    </tr>\n",
       "  </thead>\n",
       "  <tbody>\n",
       "    <tr>\n",
       "      <th>0</th>\n",
       "      <td>VX6NLA-F5YMSW</td>\n",
       "      <td>control</td>\n",
       "      <td>0</td>\n",
       "      <td>5050</td>\n",
       "      <td>5.96</td>\n",
       "    </tr>\n",
       "    <tr>\n",
       "      <th>1</th>\n",
       "      <td>2AXN3D-71ZN86</td>\n",
       "      <td>test</td>\n",
       "      <td>0</td>\n",
       "      <td>5600</td>\n",
       "      <td>4.96</td>\n",
       "    </tr>\n",
       "    <tr>\n",
       "      <th>2</th>\n",
       "      <td>K78V3J-TQMV6F</td>\n",
       "      <td>test</td>\n",
       "      <td>0</td>\n",
       "      <td>5850</td>\n",
       "      <td>3.96</td>\n",
       "    </tr>\n",
       "    <tr>\n",
       "      <th>3</th>\n",
       "      <td>Z2KEIG-LY3V4H</td>\n",
       "      <td>test</td>\n",
       "      <td>0</td>\n",
       "      <td>5900</td>\n",
       "      <td>4.96</td>\n",
       "    </tr>\n",
       "    <tr>\n",
       "      <th>4</th>\n",
       "      <td>ND92RZ-SHG980</td>\n",
       "      <td>control</td>\n",
       "      <td>0</td>\n",
       "      <td>9000</td>\n",
       "      <td>9.94</td>\n",
       "    </tr>\n",
       "  </tbody>\n",
       "</table>\n",
       "</div>"
      ],
      "text/plain": [
       "         user_id    group  cheaters  cash  money\n",
       "0  VX6NLA-F5YMSW  control         0  5050   5.96\n",
       "1  2AXN3D-71ZN86     test         0  5600   4.96\n",
       "2  K78V3J-TQMV6F     test         0  5850   3.96\n",
       "3  Z2KEIG-LY3V4H     test         0  5900   4.96\n",
       "4  ND92RZ-SHG980  control         0  9000   9.94"
      ]
     },
     "execution_count": 3,
     "metadata": {},
     "output_type": "execute_result"
    }
   ],
   "source": [
    "no_cheaters = pd.read_csv('no_cheaters.csv')\n",
    "no_cheaters.head()"
   ]
  },
  {
   "cell_type": "code",
   "execution_count": 4,
   "metadata": {},
   "outputs": [],
   "source": [
    "# Фильтрация данных для групп\n",
    "test_group = no_cheaters[no_cheaters['group']=='test']\n",
    "control_group = no_cheaters[no_cheaters['group']=='control']"
   ]
  },
  {
   "cell_type": "markdown",
   "metadata": {},
   "source": [
    "### Рассчет ARPU"
   ]
  },
  {
   "cell_type": "code",
   "execution_count": 10,
   "metadata": {},
   "outputs": [
    {
     "data": {
      "text/plain": [
       "6.1623"
      ]
     },
     "execution_count": 10,
     "metadata": {},
     "output_type": "execute_result"
    }
   ],
   "source": [
    "arpu_test = test_group['money'].sum()/test_group['user_id'].nunique()\n",
    "round(arpu_test, 4)"
   ]
  },
  {
   "cell_type": "code",
   "execution_count": 11,
   "metadata": {},
   "outputs": [
    {
     "data": {
      "text/plain": [
       "5.8295"
      ]
     },
     "execution_count": 11,
     "metadata": {},
     "output_type": "execute_result"
    }
   ],
   "source": [
    "arpu_control = control_group['money'].sum()/control_group['user_id'].nunique()\n",
    "round(arpu_control, 4)"
   ]
  },
  {
   "cell_type": "markdown",
   "metadata": {},
   "source": [
    "### Рассчет ARPPU"
   ]
  },
  {
   "cell_type": "code",
   "execution_count": 14,
   "metadata": {},
   "outputs": [],
   "source": [
    "arppu_t = test_group[test_group['money']>0]\n",
    "arppu_c = control_group[control_group['money']>0]"
   ]
  },
  {
   "cell_type": "code",
   "execution_count": 15,
   "metadata": {},
   "outputs": [
    {
     "data": {
      "text/plain": [
       "6.1631"
      ]
     },
     "execution_count": 15,
     "metadata": {},
     "output_type": "execute_result"
    }
   ],
   "source": [
    "arppu_test = arppu_t['money'].sum()/arppu_t['user_id'].nunique()\n",
    "round(arppu_test, 4)"
   ]
  },
  {
   "cell_type": "code",
   "execution_count": 16,
   "metadata": {},
   "outputs": [
    {
     "data": {
      "text/plain": [
       "5.8311"
      ]
     },
     "execution_count": 16,
     "metadata": {},
     "output_type": "execute_result"
    }
   ],
   "source": [
    "arppu_control = arppu_c['money'].sum()/arppu_c['user_id'].nunique()\n",
    "round(arppu_control, 4)"
   ]
  },
  {
   "cell_type": "markdown",
   "metadata": {},
   "source": [
    "### Рассчет средних трат внтриигровой валюты"
   ]
  },
  {
   "cell_type": "code",
   "execution_count": 35,
   "metadata": {},
   "outputs": [
    {
     "data": {
      "text/plain": [
       "6229.5963"
      ]
     },
     "execution_count": 35,
     "metadata": {},
     "output_type": "execute_result"
    }
   ],
   "source": [
    "cash_test = test_group['cash'].sum()/test_group['user_id'].nunique()\n",
    "round(cash_test, 4)"
   ]
  },
  {
   "cell_type": "code",
   "execution_count": 36,
   "metadata": {},
   "outputs": [
    {
     "data": {
      "text/plain": [
       "5800.7054"
      ]
     },
     "execution_count": 36,
     "metadata": {},
     "output_type": "execute_result"
    }
   ],
   "source": [
    "control_test = control_group['cash'].sum()/control_group['user_id'].nunique()\n",
    "round(control_test, 4)"
   ]
  },
  {
   "cell_type": "markdown",
   "metadata": {},
   "source": [
    "### Расчет доверительного интервала ARPU"
   ]
  },
  {
   "cell_type": "code",
   "execution_count": 22,
   "metadata": {},
   "outputs": [
    {
     "data": {
      "text/html": [
       "<div>\n",
       "<style scoped>\n",
       "    .dataframe tbody tr th:only-of-type {\n",
       "        vertical-align: middle;\n",
       "    }\n",
       "\n",
       "    .dataframe tbody tr th {\n",
       "        vertical-align: top;\n",
       "    }\n",
       "\n",
       "    .dataframe thead th {\n",
       "        text-align: right;\n",
       "    }\n",
       "</style>\n",
       "<table border=\"1\" class=\"dataframe\">\n",
       "  <thead>\n",
       "    <tr style=\"text-align: right;\">\n",
       "      <th></th>\n",
       "      <th>user_id</th>\n",
       "      <th>group</th>\n",
       "      <th>cheaters</th>\n",
       "      <th>cash</th>\n",
       "      <th>money</th>\n",
       "    </tr>\n",
       "  </thead>\n",
       "  <tbody>\n",
       "    <tr>\n",
       "      <th>1</th>\n",
       "      <td>2AXN3D-71ZN86</td>\n",
       "      <td>test</td>\n",
       "      <td>0</td>\n",
       "      <td>5600</td>\n",
       "      <td>4.96</td>\n",
       "    </tr>\n",
       "    <tr>\n",
       "      <th>2</th>\n",
       "      <td>K78V3J-TQMV6F</td>\n",
       "      <td>test</td>\n",
       "      <td>0</td>\n",
       "      <td>5850</td>\n",
       "      <td>3.96</td>\n",
       "    </tr>\n",
       "    <tr>\n",
       "      <th>3</th>\n",
       "      <td>Z2KEIG-LY3V4H</td>\n",
       "      <td>test</td>\n",
       "      <td>0</td>\n",
       "      <td>5900</td>\n",
       "      <td>4.96</td>\n",
       "    </tr>\n",
       "    <tr>\n",
       "      <th>6</th>\n",
       "      <td>L48T70-W483B3</td>\n",
       "      <td>test</td>\n",
       "      <td>0</td>\n",
       "      <td>8550</td>\n",
       "      <td>7.96</td>\n",
       "    </tr>\n",
       "    <tr>\n",
       "      <th>8</th>\n",
       "      <td>X2N7P6-8AM85H</td>\n",
       "      <td>test</td>\n",
       "      <td>0</td>\n",
       "      <td>5950</td>\n",
       "      <td>9.92</td>\n",
       "    </tr>\n",
       "  </tbody>\n",
       "</table>\n",
       "</div>"
      ],
      "text/plain": [
       "         user_id group  cheaters  cash  money\n",
       "1  2AXN3D-71ZN86  test         0  5600   4.96\n",
       "2  K78V3J-TQMV6F  test         0  5850   3.96\n",
       "3  Z2KEIG-LY3V4H  test         0  5900   4.96\n",
       "6  L48T70-W483B3  test         0  8550   7.96\n",
       "8  X2N7P6-8AM85H  test         0  5950   9.92"
      ]
     },
     "execution_count": 22,
     "metadata": {},
     "output_type": "execute_result"
    }
   ],
   "source": [
    "test_group.head()"
   ]
  },
  {
   "cell_type": "code",
   "execution_count": 23,
   "metadata": {},
   "outputs": [],
   "source": [
    "test_interval = mean_confidence_interval(list(test_group['money']), confidence=0.95)"
   ]
  },
  {
   "cell_type": "code",
   "execution_count": 24,
   "metadata": {},
   "outputs": [
    {
     "data": {
      "text/plain": [
       "(6.1623, 6.1572, 6.1674)"
      ]
     },
     "execution_count": 24,
     "metadata": {},
     "output_type": "execute_result"
    }
   ],
   "source": [
    "test_interval"
   ]
  },
  {
   "cell_type": "code",
   "execution_count": 25,
   "metadata": {},
   "outputs": [
    {
     "data": {
      "text/plain": [
       "(5.8295, 5.8245, 5.8345)"
      ]
     },
     "execution_count": 25,
     "metadata": {},
     "output_type": "execute_result"
    }
   ],
   "source": [
    "control_interval = mean_confidence_interval(list(control_group['money']), confidence=0.95)\n",
    "control_interval"
   ]
  },
  {
   "cell_type": "markdown",
   "metadata": {},
   "source": [
    "#### Построение графика пересечения доверительных интервалов ARPU"
   ]
  },
  {
   "cell_type": "code",
   "execution_count": 26,
   "metadata": {},
   "outputs": [],
   "source": [
    "groups = ['test_group', 'control_group']\n",
    "means = [test_interval[0], control_interval[0]]\n",
    "lower_bounds = [test_interval[0] - test_interval[1], control_interval[0] - control_interval[1]]\n",
    "upper_bounds = [test_interval[2] - test_interval[0], control_interval[2] - control_interval[0]]"
   ]
  },
  {
   "cell_type": "code",
   "execution_count": 27,
   "metadata": {},
   "outputs": [
    {
     "data": {
      "image/png": "[encoded data removed]",
      "text/plain": [
       "<Figure size 720x360 with 1 Axes>"
      ]
     },
     "metadata": {
      "needs_background": "light"
     },
     "output_type": "display_data"
    }
   ],
   "source": [
    "plt.figure(figsize=(10, 5))\n",
    "plt.errorbar(x=means, y=groups, xerr=[lower_bounds, upper_bounds], fmt='o', color='blue', capsize=8)\n",
    "plt.xlabel('ARPU')\n",
    "plt.title('Доверительные интервалы для ARPU test и control групп')\n",
    "plt.grid(True)\n",
    "plt.show()"
   ]
  },
  {
   "cell_type": "markdown",
   "metadata": {},
   "source": [
    "### Расчет доверительного интервала ARPPU"
   ]
  },
  {
   "cell_type": "code",
   "execution_count": 29,
   "metadata": {},
   "outputs": [
    {
     "data": {
      "text/plain": [
       "(6.1631, 6.158, 6.1682)"
      ]
     },
     "execution_count": 29,
     "metadata": {},
     "output_type": "execute_result"
    }
   ],
   "source": [
    "test_interval = mean_confidence_interval(list(test_group[test_group.money>0]['money']), confidence=0.95)\n",
    "test_interval"
   ]
  },
  {
   "cell_type": "code",
   "execution_count": 32,
   "metadata": {},
   "outputs": [
    {
     "data": {
      "text/plain": [
       "(5.8311, 5.8261, 5.8361)"
      ]
     },
     "execution_count": 32,
     "metadata": {},
     "output_type": "execute_result"
    }
   ],
   "source": [
    "control_interval = mean_confidence_interval(list(control_group[control_group.money>0]['money']), confidence=0.95)\n",
    "control_interval"
   ]
  },
  {
   "cell_type": "markdown",
   "metadata": {},
   "source": [
    "#### Построение графика пересечения доверительных интервалов ARPPU"
   ]
  },
  {
   "cell_type": "code",
   "execution_count": 33,
   "metadata": {},
   "outputs": [],
   "source": [
    "groups = ['test_group', 'control_group']\n",
    "means = [test_interval[0], control_interval[0]]\n",
    "lower_bounds = [test_interval[0] - test_interval[1], control_interval[0] - control_interval[1]]\n",
    "upper_bounds = [test_interval[2] - test_interval[0], control_interval[2] - control_interval[0]]"
   ]
  },
  {
   "cell_type": "code",
   "execution_count": 34,
   "metadata": {},
   "outputs": [
    {
     "data": {
      "image/png": "[encoded data removed]",
      "text/plain": [
       "<Figure size 720x360 with 1 Axes>"
      ]
     },
     "metadata": {
      "needs_background": "light"
     },
     "output_type": "display_data"
    }
   ],
   "source": [
    "plt.figure(figsize=(10, 5))\n",
    "plt.errorbar(x=means, y=groups, xerr=[lower_bounds, upper_bounds], fmt='o', color='blue', capsize=8)\n",
    "plt.xlabel('ARPPU')\n",
    "plt.title('Доверительные интервалы для ARPPU test и control групп')\n",
    "plt.grid(True)\n",
    "plt.show()"
   ]
  },
  {
   "cell_type": "markdown",
   "metadata": {},
   "source": [
    "### Расчет доверительного интервала средних трат внутриигровой валюты"
   ]
  },
  {
   "cell_type": "code",
   "execution_count": 38,
   "metadata": {},
   "outputs": [
    {
     "data": {
      "text/plain": [
       "(6229.5963, 6225.8294, 6233.3632)"
      ]
     },
     "execution_count": 38,
     "metadata": {},
     "output_type": "execute_result"
    }
   ],
   "source": [
    "test_interval = mean_confidence_interval(list(test_group['cash']), confidence=0.95)\n",
    "test_interval"
   ]
  },
  {
   "cell_type": "code",
   "execution_count": 39,
   "metadata": {},
   "outputs": [
    {
     "data": {
      "text/plain": [
       "(5800.7054, 5797.1124, 5804.2983)"
      ]
     },
     "execution_count": 39,
     "metadata": {},
     "output_type": "execute_result"
    }
   ],
   "source": [
    "control_interval = mean_confidence_interval(list(control_group['cash']), confidence=0.95)\n",
    "control_interval"
   ]
  },
  {
   "cell_type": "markdown",
   "metadata": {},
   "source": [
    "#### Построение графика пересечения доверительных интервалов средних трат внутриигровой валюты"
   ]
  },
  {
   "cell_type": "code",
   "execution_count": 41,
   "metadata": {},
   "outputs": [],
   "source": [
    "groups = ['test_group', 'control_group']\n",
    "means = [test_interval[0], control_interval[0]]\n",
    "lower_bounds = [test_interval[0] - test_interval[1], control_interval[0] - control_interval[1]]\n",
    "upper_bounds = [test_interval[2] - test_interval[0], control_interval[2] - control_interval[0]]"
   ]
  },
  {
   "cell_type": "code",
   "execution_count": 42,
   "metadata": {},
   "outputs": [
    {
     "data": {
      "image/png": "[encoded data removed]",
      "text/plain": [
       "<Figure size 720x360 with 1 Axes>"
      ]
     },
     "metadata": {
      "needs_background": "light"
     },
     "output_type": "display_data"
    }
   ],
   "source": [
    "plt.figure(figsize=(10, 5))\n",
    "plt.errorbar(x=means, y=groups, xerr=[lower_bounds, upper_bounds], fmt='o', color='blue', capsize=8)\n",
    "plt.xlabel('Средние траты внутриигровой валюты')\n",
    "plt.title('Доверительные интервалы для средних трат внутриигровой валюты test и control групп')\n",
    "plt.grid(True)\n",
    "plt.show()"
   ]
  }
 ],
 "metadata": {
  "kernelspec": {
   "display_name": "Python 3",
   "language": "python",
   "name": "python3"
  },
  "language_info": {
   "codemirror_mode": {
    "name": "ipython",
    "version": 3
   },
   "file_extension": ".py",
   "mimetype": "text/x-python",
   "name": "python",
   "nbconvert_exporter": "python",
   "pygments_lexer": "ipython3",
   "version": "3.9.0"
  }
 },
 "nbformat": 4,
 "nbformat_minor": 4
}
